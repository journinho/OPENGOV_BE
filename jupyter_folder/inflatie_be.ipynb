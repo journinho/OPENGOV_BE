{
 "cells": [
  {
   "cell_type": "code",
   "execution_count": 1,
   "metadata": {},
   "outputs": [],
   "source": [
    "import pandas as pd"
   ]
  },
  {
   "cell_type": "code",
   "execution_count": 2,
   "metadata": {},
   "outputs": [
    {
     "name": "stdout",
     "output_type": "stream",
     "text": [
      "<class 'pandas.core.frame.DataFrame'>\n",
      "RangeIndex: 12683 entries, 0 to 12682\n",
      "Data columns (total 10 columns):\n",
      " #   Column               Non-Null Count  Dtype  \n",
      "---  ------               --------------  -----  \n",
      " 0   NM_YR                12683 non-null  int64  \n",
      " 1   NM_MTH               12683 non-null  int64  \n",
      " 2   MS_CPI_IDX           12683 non-null  float64\n",
      " 3   MS_WITHOUT_ENE_IDX   12683 non-null  object \n",
      " 4   MS_WITHOUT_PTRL_IDX  12683 non-null  object \n",
      " 5   MS_WT_CPI            12683 non-null  int64  \n",
      " 6   MS_CPI_INFL          12683 non-null  object \n",
      " 7   MS_HLTH_IDX          12683 non-null  object \n",
      " 8   MS_SMOOTH_IDX        12683 non-null  object \n",
      " 9   NM_BASE_YR           12683 non-null  int64  \n",
      "dtypes: float64(1), int64(4), object(5)\n",
      "memory usage: 991.0+ KB\n"
     ]
    }
   ],
   "source": [
    "df_url = \"https://statbel.fgov.be/sites/default/files/files/opendata/Consumptieprijsindex%20en%20gezondheidsindex/CPI%20All%20base%20years.zip\"\n",
    "df = pd.read_csv(df_url, sep=\"|\")"
   ]
  },
  {
   "cell_type": "code",
   "execution_count": 27,
   "metadata": {},
   "outputs": [],
   "source": [
    "inflatie_be = pd.pivot_table(df, index=['NM_YR', 'NM_MTH'], values=['MS_CPI_INFL'], aggfunc='sum').reset_index()\n",
    "#extract last 120 months:\n",
    "inflatie_be = inflatie_be.iloc[-120:]\n",
    "day = 1\n",
    "inflatie_be['DATE']= pd.to_datetime(dict(year=inflatie_be.NM_YR, month=inflatie_be.NM_MTH, day=day), format=\"%d-%m-%Y\")\n",
    "inflatie_be['YR_MTH'] = inflatie_be['DATE'].dt.strftime('%Y-%m')\n",
    "inflatie_be = inflatie_be[['YR_MTH','MS_CPI_INFL']]\n",
    "inflatie_be.rename(columns={'YR_MTH':'Jaar-Maand', 'MS_CPI_INFL': 'Inflatie'}, inplace=True)\n",
    "# Make Jaar-Maand to index:\n",
    "inflatie_be = inflatie_be.set_index('Jaar-Maand')\n",
    "# Export inflatie_be to .csv-file:\n",
    "inflatie_be.to_csv('../data/data_bewerkt/economy/inflatie_be.csv')"
   ]
  }
 ],
 "metadata": {
  "kernelspec": {
   "display_name": "Python 3.9.12 ('base')",
   "language": "python",
   "name": "python3"
  },
  "language_info": {
   "codemirror_mode": {
    "name": "ipython",
    "version": 3
   },
   "file_extension": ".py",
   "mimetype": "text/x-python",
   "name": "python",
   "nbconvert_exporter": "python",
   "pygments_lexer": "ipython3",
   "version": "3.9.12"
  },
  "orig_nbformat": 4,
  "vscode": {
   "interpreter": {
    "hash": "5facfb68f77bf2b043a6e912bbe37f34562f8199fa4991c5b537bf80507dc8fb"
   }
  }
 },
 "nbformat": 4,
 "nbformat_minor": 2
}
