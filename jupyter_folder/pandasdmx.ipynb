{
 "cells": [
  {
   "cell_type": "code",
   "execution_count": 1,
   "metadata": {},
   "outputs": [
    {
     "name": "stderr",
     "output_type": "stream",
     "text": [
      "/Users/dorjbaam/opt/anaconda3/lib/python3.9/site-packages/pandasdmx/remote.py:11: RuntimeWarning: optional dependency requests_cache is not installed; cache options to Session() have no effect\n",
      "  warn(\n"
     ]
    }
   ],
   "source": [
    "import pandasdmx as sdmx"
   ]
  },
  {
   "cell_type": "code",
   "execution_count": 2,
   "metadata": {},
   "outputs": [],
   "source": [
    "estat = sdmx.Request('ESTAT')"
   ]
  },
  {
   "cell_type": "code",
   "execution_count": 3,
   "metadata": {},
   "outputs": [
    {
     "data": {
      "text/plain": [
       "'en'"
      ]
     },
     "execution_count": 3,
     "metadata": {},
     "output_type": "execute_result"
    }
   ],
   "source": [
    "estat.default_locale"
   ]
  },
  {
   "cell_type": "code",
   "execution_count": 4,
   "metadata": {},
   "outputs": [],
   "source": [
    "estat.default_locale = 'nl'"
   ]
  },
  {
   "cell_type": "code",
   "execution_count": 5,
   "metadata": {},
   "outputs": [],
   "source": [
    "metadata = estat.datastructure('DSD_une_rt_a')\n"
   ]
  },
  {
   "cell_type": "code",
   "execution_count": 6,
   "metadata": {},
   "outputs": [
    {
     "data": {
      "text/plain": [
       "<pandasdmx.StructureMessage>\n",
       "  <Header>\n",
       "    id: 'IDREF1423095'\n",
       "    prepared: '2022-10-15T22:33:28.531000+00:00'\n",
       "    receiver: <Agency Unknown>\n",
       "    sender: <Agency Unknown>\n",
       "    source: \n",
       "    test: False\n",
       "  response: <Response [200]>\n",
       "  Codelist (7): CL_AGE CL_FREQ CL_GEO CL_OBS_FLAG CL_OBS_STATUS CL_SEX ...\n",
       "  ConceptScheme (1): CS_DSD_une_rt_a\n",
       "  DataStructureDefinition (1): DSD_une_rt_a"
      ]
     },
     "execution_count": 6,
     "metadata": {},
     "output_type": "execute_result"
    }
   ],
   "source": [
    "metadata"
   ]
  },
  {
   "cell_type": "code",
   "execution_count": 7,
   "metadata": {},
   "outputs": [
    {
     "name": "stdout",
     "output_type": "stream",
     "text": [
      "                       name  parent\n",
      "CL_AGE                             \n",
      "Y15-24  From 15 to 24 years  CL_AGE\n",
      "Y15-29  From 15 to 29 years  CL_AGE\n",
      "Y15-74  From 15 to 74 years  CL_AGE\n",
      "Y20-64  From 20 to 64 years  CL_AGE\n",
      "Y25-54  From 25 to 54 years  CL_AGE\n",
      "Y25-74  From 25 to 74 years  CL_AGE\n",
      "Y55-74  From 55 to 74 years  CL_AGE\n",
      "                                                 name   parent\n",
      "CL_UNIT                                                       \n",
      "THS_PER                              Thousand persons  CL_UNIT\n",
      "PC_POP                 Percentage of total population  CL_UNIT\n",
      "PC_ACT   Percentage of population in the labour force  CL_UNIT\n"
     ]
    }
   ],
   "source": [
    "for cl in 'CL_AGE', 'CL_UNIT':\n",
    "    print(sdmx.to_pandas(metadata.codelist[cl]))"
   ]
  },
  {
   "cell_type": "code",
   "execution_count": 8,
   "metadata": {},
   "outputs": [
    {
     "name": "stderr",
     "output_type": "stream",
     "text": [
      "2022-10-16 00:34:20,864 pandasdmx.reader.sdmxml - INFO: Use supplied dsd=… argument for non–structure-specific message\n"
     ]
    }
   ],
   "source": [
    "resp = estat.data(\n",
    "    'une_rt_a',\n",
    "    key={'GEO': 'EL+ES+IE'},\n",
    "    params={'startPeriod': '2007'},\n",
    "    )"
   ]
  },
  {
   "cell_type": "code",
   "execution_count": 9,
   "metadata": {},
   "outputs": [],
   "source": [
    "data = resp.to_pandas(\n",
    "    datetime={'dim': 'TIME_PERIOD', 'freq': 'FREQ'}).xs('Y15-74', level='AGE',\n",
    "        axis=1, drop_level=False)"
   ]
  },
  {
   "cell_type": "code",
   "execution_count": 12,
   "metadata": {},
   "outputs": [
    {
     "data": {
      "text/plain": [
       "FrozenList(['AGE', 'UNIT', 'SEX', 'GEO'])"
      ]
     },
     "execution_count": 12,
     "metadata": {},
     "output_type": "execute_result"
    }
   ],
   "source": [
    "data.columns.names\n"
   ]
  },
  {
   "cell_type": "code",
   "execution_count": 13,
   "metadata": {},
   "outputs": [
    {
     "data": {
      "text/plain": [
       "FrozenList([['Y15-24', 'Y15-29', 'Y15-74', 'Y20-64', 'Y25-54', 'Y25-74', 'Y55-74'], ['PC_ACT', 'PC_POP', 'THS_PER'], ['F', 'M', 'T'], ['EL', 'ES', 'IE']])"
      ]
     },
     "execution_count": 13,
     "metadata": {},
     "output_type": "execute_result"
    }
   ],
   "source": [
    "data.columns.levels\n"
   ]
  },
  {
   "cell_type": "code",
   "execution_count": 14,
   "metadata": {},
   "outputs": [
    {
     "data": {
      "text/html": [
       "<div>\n",
       "<style scoped>\n",
       "    .dataframe tbody tr th:only-of-type {\n",
       "        vertical-align: middle;\n",
       "    }\n",
       "\n",
       "    .dataframe tbody tr th {\n",
       "        vertical-align: top;\n",
       "    }\n",
       "\n",
       "    .dataframe thead th {\n",
       "        text-align: right;\n",
       "    }\n",
       "</style>\n",
       "<table border=\"1\" class=\"dataframe\">\n",
       "  <thead>\n",
       "    <tr style=\"text-align: right;\">\n",
       "      <th>GEO</th>\n",
       "      <th>EL</th>\n",
       "      <th>ES</th>\n",
       "      <th>IE</th>\n",
       "    </tr>\n",
       "    <tr>\n",
       "      <th>TIME_PERIOD</th>\n",
       "      <th></th>\n",
       "      <th></th>\n",
       "      <th></th>\n",
       "    </tr>\n",
       "  </thead>\n",
       "  <tbody>\n",
       "    <tr>\n",
       "      <th>2007</th>\n",
       "      <td>NaN</td>\n",
       "      <td>NaN</td>\n",
       "      <td>NaN</td>\n",
       "    </tr>\n",
       "    <tr>\n",
       "      <th>2008</th>\n",
       "      <td>NaN</td>\n",
       "      <td>NaN</td>\n",
       "      <td>NaN</td>\n",
       "    </tr>\n",
       "    <tr>\n",
       "      <th>2009</th>\n",
       "      <td>9.8</td>\n",
       "      <td>17.9</td>\n",
       "      <td>12.6</td>\n",
       "    </tr>\n",
       "    <tr>\n",
       "      <th>2010</th>\n",
       "      <td>12.9</td>\n",
       "      <td>19.9</td>\n",
       "      <td>14.6</td>\n",
       "    </tr>\n",
       "    <tr>\n",
       "      <th>2011</th>\n",
       "      <td>18.1</td>\n",
       "      <td>21.4</td>\n",
       "      <td>15.4</td>\n",
       "    </tr>\n",
       "    <tr>\n",
       "      <th>2012</th>\n",
       "      <td>24.8</td>\n",
       "      <td>24.8</td>\n",
       "      <td>15.5</td>\n",
       "    </tr>\n",
       "    <tr>\n",
       "      <th>2013</th>\n",
       "      <td>27.8</td>\n",
       "      <td>26.1</td>\n",
       "      <td>13.8</td>\n",
       "    </tr>\n",
       "    <tr>\n",
       "      <th>2014</th>\n",
       "      <td>26.6</td>\n",
       "      <td>24.5</td>\n",
       "      <td>11.9</td>\n",
       "    </tr>\n",
       "    <tr>\n",
       "      <th>2015</th>\n",
       "      <td>25.0</td>\n",
       "      <td>22.1</td>\n",
       "      <td>9.9</td>\n",
       "    </tr>\n",
       "    <tr>\n",
       "      <th>2016</th>\n",
       "      <td>23.9</td>\n",
       "      <td>19.6</td>\n",
       "      <td>8.4</td>\n",
       "    </tr>\n",
       "    <tr>\n",
       "      <th>2017</th>\n",
       "      <td>21.8</td>\n",
       "      <td>17.2</td>\n",
       "      <td>6.7</td>\n",
       "    </tr>\n",
       "    <tr>\n",
       "      <th>2018</th>\n",
       "      <td>19.7</td>\n",
       "      <td>15.3</td>\n",
       "      <td>5.8</td>\n",
       "    </tr>\n",
       "    <tr>\n",
       "      <th>2019</th>\n",
       "      <td>17.9</td>\n",
       "      <td>14.1</td>\n",
       "      <td>5.0</td>\n",
       "    </tr>\n",
       "    <tr>\n",
       "      <th>2020</th>\n",
       "      <td>17.6</td>\n",
       "      <td>15.5</td>\n",
       "      <td>5.9</td>\n",
       "    </tr>\n",
       "    <tr>\n",
       "      <th>2021</th>\n",
       "      <td>14.7</td>\n",
       "      <td>14.8</td>\n",
       "      <td>6.2</td>\n",
       "    </tr>\n",
       "  </tbody>\n",
       "</table>\n",
       "</div>"
      ],
      "text/plain": [
       "GEO            EL    ES    IE\n",
       "TIME_PERIOD                  \n",
       "2007          NaN   NaN   NaN\n",
       "2008          NaN   NaN   NaN\n",
       "2009          9.8  17.9  12.6\n",
       "2010         12.9  19.9  14.6\n",
       "2011         18.1  21.4  15.4\n",
       "2012         24.8  24.8  15.5\n",
       "2013         27.8  26.1  13.8\n",
       "2014         26.6  24.5  11.9\n",
       "2015         25.0  22.1   9.9\n",
       "2016         23.9  19.6   8.4\n",
       "2017         21.8  17.2   6.7\n",
       "2018         19.7  15.3   5.8\n",
       "2019         17.9  14.1   5.0\n",
       "2020         17.6  15.5   5.9\n",
       "2021         14.7  14.8   6.2"
      ]
     },
     "execution_count": 14,
     "metadata": {},
     "output_type": "execute_result"
    }
   ],
   "source": [
    "data.loc[:, ('Y15-74', 'PC_ACT', 'T')]"
   ]
  },
  {
   "cell_type": "code",
   "execution_count": null,
   "metadata": {},
   "outputs": [],
   "source": [
    "#create a dictionary with land codes and names of all EU27 countries\n",
    "\n"
   ]
  }
 ],
 "metadata": {
  "kernelspec": {
   "display_name": "Python 3.9.12 ('base')",
   "language": "python",
   "name": "python3"
  },
  "language_info": {
   "codemirror_mode": {
    "name": "ipython",
    "version": 3
   },
   "file_extension": ".py",
   "mimetype": "text/x-python",
   "name": "python",
   "nbconvert_exporter": "python",
   "pygments_lexer": "ipython3",
   "version": "3.9.12"
  },
  "orig_nbformat": 4,
  "vscode": {
   "interpreter": {
    "hash": "5facfb68f77bf2b043a6e912bbe37f34562f8199fa4991c5b537bf80507dc8fb"
   }
  }
 },
 "nbformat": 4,
 "nbformat_minor": 2
}
