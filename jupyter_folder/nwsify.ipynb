{
 "cells": [
  {
   "cell_type": "code",
   "execution_count": 29,
   "metadata": {},
   "outputs": [],
   "source": [
    "import pandas as pd\n",
    "from datawrapper import Datawrapper\n",
    "from bs4 import BeautifulSoup\n",
    "import json\n",
    "from urllib.request import Request, urlopen\n",
    "import requests"
   ]
  },
  {
   "cell_type": "code",
   "execution_count": 30,
   "metadata": {},
   "outputs": [],
   "source": [
    "dw = Datawrapper(access_token = \"4Kg4iAVfsQc9HH4VXtPSpEpdv9F6xbD90XTWIkMXgj90vxN9CrnGts7D30lX6h7n\")"
   ]
  },
  {
   "cell_type": "code",
   "execution_count": 31,
   "metadata": {},
   "outputs": [],
   "source": [
    "datawrapper_id = input(prompt='Vul de Datawrapper ID in:')"
   ]
  },
  {
   "cell_type": "code",
   "execution_count": 32,
   "metadata": {},
   "outputs": [
    {
     "name": "stdout",
     "output_type": "stream",
     "text": [
      "Ingeschreven personenwagens\n",
      "d3-lines\n",
      "Vlaams Gewest, 2006-2022, aantal\n",
      "Statbel, bewerking Statistiek Vlaanderen\n",
      "\n",
      "1\n"
     ]
    }
   ],
   "source": [
    "metadata = dw.chart_properties(chart_id = datawrapper_id)\n",
    "graph_type = metadata['type']\n",
    "graph_title = metadata['title']\n",
    "graph_source = metadata['metadata']['describe']['source-name']\n",
    "graph_intro = metadata['metadata']['describe']['intro']\n",
    "graph_byline = metadata['metadata']['describe']['byline']\n",
    "graph_version = str(metadata['publicVersion'])\n",
    "print(graph_title)\n",
    "print(graph_type)\n",
    "print(graph_intro)\n",
    "print(graph_source)\n",
    "print(graph_byline)\n",
    "print(graph_version)"
   ]
  },
  {
   "cell_type": "code",
   "execution_count": 9,
   "metadata": {},
   "outputs": [
    {
     "name": "stdout",
     "output_type": "stream",
     "text": [
      "<iframe title=\"Land- en tuinbouwbedrijven\" aria-label=\"Interactive line chart\" id=\"datawrapper-chart-xpOvE\" src=\"https://datawrapper.dwcdn.net/xpOvE/1/\" scrolling=\"no\" frameborder=\"0\" style=\"border: none;\" width=\"600\" height=\"400\"></iframe>\n"
     ]
    }
   ],
   "source": [
    "print(metadata['metadata']['publish']['embed-codes']['embed-method-iframe'])"
   ]
  },
  {
   "cell_type": "code",
   "execution_count": 33,
   "metadata": {},
   "outputs": [
    {
     "name": "stdout",
     "output_type": "stream",
     "text": [
      "https://datawrapper.dwcdn.net/geaMT/1/data.csv\n",
      "https://datawrapper.dwcdn.net/geaMT/1/\n",
      "https://api.datawrapper.de/v3/oembed?url=https://datawrapper.dwcdn.net/geaMT/1/&amp;format=json\n"
     ]
    }
   ],
   "source": [
    "# Get csv url from Datawrapper and save it as data_url\n",
    "data_url = 'https://datawrapper.dwcdn.net/'+datawrapper_id+'/'+graph_version+'/data.csv'\n",
    "# Get Datawrapper graph URL and save it as graph_url\n",
    "graph_url = 'https://datawrapper.dwcdn.net/'+datawrapper_id+'/'+graph_version+'/'\n",
    "# Get metadata about the graph and save it as json_url\n",
    "json_url = 'https://api.datawrapper.de/v3/oembed?url=https://datawrapper.dwcdn.net/'+datawrapper_id+'/'+graph_version+'/&amp;format=json'\n",
    "\n",
    "print(data_url)\n",
    "print(graph_url)\n",
    "print(json_url)"
   ]
  },
  {
   "cell_type": "code",
   "execution_count": 34,
   "metadata": {},
   "outputs": [
    {
     "data": {
      "text/html": [
       "<div>\n",
       "<style scoped>\n",
       "    .dataframe tbody tr th:only-of-type {\n",
       "        vertical-align: middle;\n",
       "    }\n",
       "\n",
       "    .dataframe tbody tr th {\n",
       "        vertical-align: top;\n",
       "    }\n",
       "\n",
       "    .dataframe thead th {\n",
       "        text-align: right;\n",
       "    }\n",
       "</style>\n",
       "<table border=\"1\" class=\"dataframe\">\n",
       "  <thead>\n",
       "    <tr style=\"text-align: right;\">\n",
       "      <th></th>\n",
       "      <th>X.1</th>\n",
       "      <th>Totaal</th>\n",
       "    </tr>\n",
       "  </thead>\n",
       "  <tbody>\n",
       "    <tr>\n",
       "      <th>0</th>\n",
       "      <td>2006</td>\n",
       "      <td>2.963.916</td>\n",
       "    </tr>\n",
       "    <tr>\n",
       "      <th>1</th>\n",
       "      <td>2007</td>\n",
       "      <td>3.000.869</td>\n",
       "    </tr>\n",
       "    <tr>\n",
       "      <th>2</th>\n",
       "      <td>2008</td>\n",
       "      <td>3.049.789</td>\n",
       "    </tr>\n",
       "    <tr>\n",
       "      <th>3</th>\n",
       "      <td>2009</td>\n",
       "      <td>3.086.631</td>\n",
       "    </tr>\n",
       "    <tr>\n",
       "      <th>4</th>\n",
       "      <td>2010</td>\n",
       "      <td>3.126.050</td>\n",
       "    </tr>\n",
       "    <tr>\n",
       "      <th>5</th>\n",
       "      <td>2011</td>\n",
       "      <td>3.223.690</td>\n",
       "    </tr>\n",
       "    <tr>\n",
       "      <th>6</th>\n",
       "      <td>2012</td>\n",
       "      <td>NaN</td>\n",
       "    </tr>\n",
       "    <tr>\n",
       "      <th>7</th>\n",
       "      <td>2013</td>\n",
       "      <td>3.282.245</td>\n",
       "    </tr>\n",
       "    <tr>\n",
       "      <th>8</th>\n",
       "      <td>2014</td>\n",
       "      <td>3.320.409</td>\n",
       "    </tr>\n",
       "    <tr>\n",
       "      <th>9</th>\n",
       "      <td>2015</td>\n",
       "      <td>3.364.863</td>\n",
       "    </tr>\n",
       "    <tr>\n",
       "      <th>10</th>\n",
       "      <td>2016</td>\n",
       "      <td>3.447.947</td>\n",
       "    </tr>\n",
       "    <tr>\n",
       "      <th>11</th>\n",
       "      <td>2017</td>\n",
       "      <td>3.494.829</td>\n",
       "    </tr>\n",
       "    <tr>\n",
       "      <th>12</th>\n",
       "      <td>2018</td>\n",
       "      <td>3.541.546</td>\n",
       "    </tr>\n",
       "    <tr>\n",
       "      <th>13</th>\n",
       "      <td>2019</td>\n",
       "      <td>3.569.202</td>\n",
       "    </tr>\n",
       "    <tr>\n",
       "      <th>14</th>\n",
       "      <td>2020</td>\n",
       "      <td>3.571.628</td>\n",
       "    </tr>\n",
       "    <tr>\n",
       "      <th>15</th>\n",
       "      <td>2021</td>\n",
       "      <td>3.591.052</td>\n",
       "    </tr>\n",
       "    <tr>\n",
       "      <th>16</th>\n",
       "      <td>2022</td>\n",
       "      <td>3608338</td>\n",
       "    </tr>\n",
       "  </tbody>\n",
       "</table>\n",
       "</div>"
      ],
      "text/plain": [
       "     X.1       Totaal\n",
       "0   2006   2.963.916 \n",
       "1   2007   3.000.869 \n",
       "2   2008   3.049.789 \n",
       "3   2009   3.086.631 \n",
       "4   2010   3.126.050 \n",
       "5   2011   3.223.690 \n",
       "6   2012          NaN\n",
       "7   2013   3.282.245 \n",
       "8   2014   3.320.409 \n",
       "9   2015   3.364.863 \n",
       "10  2016   3.447.947 \n",
       "11  2017   3.494.829 \n",
       "12  2018   3.541.546 \n",
       "13  2019   3.569.202 \n",
       "14  2020   3.571.628 \n",
       "15  2021   3.591.052 \n",
       "16  2022      3608338"
      ]
     },
     "execution_count": 34,
     "metadata": {},
     "output_type": "execute_result"
    }
   ],
   "source": [
    "# Get data from data_url and save to dataframe\n",
    "req = Request(data_url)\n",
    "req.add_header('User-Agent', 'Mozilla/5.0 (X11; Ubuntu; Linux x86_64; rv:77.0) Gecko/20100101 Firefox/77.0')\n",
    "content = urlopen(req)\n",
    "df = pd.read_csv(content)\n",
    "df\n"
   ]
  },
  {
   "cell_type": "code",
   "execution_count": 12,
   "metadata": {},
   "outputs": [
    {
     "data": {
      "text/plain": [
       "{'id': 172004,\n",
       " 'email': 'amra.dorjbayar@gmail.com',\n",
       " 'name': 'Amra Dorjbayar',\n",
       " 'role': 'editor',\n",
       " 'language': 'en-US',\n",
       " 'teams': [{'id': 'vrt',\n",
       "   'name': 'VRT',\n",
       "   'url': '/v3/teams/vrt',\n",
       "   'active': True}],\n",
       " 'chartCount': 217,\n",
       " 'url': '/v3/users/172004',\n",
       " 'activeTeam': 'vrt'}"
      ]
     },
     "execution_count": 12,
     "metadata": {},
     "output_type": "execute_result"
    }
   ],
   "source": [
    "dw.account_info()"
   ]
  },
  {
   "cell_type": "code",
   "execution_count": 54,
   "metadata": {},
   "outputs": [
    {
     "name": "stdout",
     "output_type": "stream",
     "text": [
      "New chart d3-lines created!\n"
     ]
    }
   ],
   "source": [
    "new_chart = dw.create_chart(title = graph_title, chart_type = graph_type, data = df, folder_id = '121077')"
   ]
  },
  {
   "cell_type": "code",
   "execution_count": 55,
   "metadata": {},
   "outputs": [
    {
     "data": {
      "text/plain": [
       "'d6VCK'"
      ]
     },
     "execution_count": 55,
     "metadata": {},
     "output_type": "execute_result"
    }
   ],
   "source": [
    "new_chart['id']\n"
   ]
  },
  {
   "cell_type": "code",
   "execution_count": 56,
   "metadata": {},
   "outputs": [
    {
     "name": "stdout",
     "output_type": "stream",
     "text": [
      "Chart updated!\n"
     ]
    }
   ],
   "source": [
    "dw.update_description(\n",
    "    new_chart['id'],\n",
    "    source_name = graph_source,\n",
    "    byline = graph_byline,\n",
    "    intro = graph_intro)"
   ]
  },
  {
   "cell_type": "code",
   "execution_count": 62,
   "metadata": {},
   "outputs": [],
   "source": [
    "new_metadata = {'describe':metadata['metadata']['describe']}\n",
    "metadata_custom = {'visualize':{'custom-range-y': metadata['metadata']['visualize']['custom-range-y']}}"
   ]
  },
  {
   "cell_type": "code",
   "execution_count": 76,
   "metadata": {},
   "outputs": [
    {
     "name": "stdout",
     "output_type": "stream",
     "text": [
      "Chart's metadata updated!\n"
     ]
    }
   ],
   "source": [
    "dw.update_metadata(new_chart['id'], metadata['metadata'])"
   ]
  },
  {
   "cell_type": "code",
   "execution_count": 65,
   "metadata": {},
   "outputs": [
    {
     "data": {
      "text/plain": [
       "{'metadata': {'data': {'changes': [],\n",
       "   'transpose': False,\n",
       "   'vertical-header': True,\n",
       "   'horizontal-header': True},\n",
       "  'describe': {'source-name': 'Statbel, bewerking Statistiek Vlaanderen',\n",
       "   'source-url': '',\n",
       "   'intro': 'Vlaams Gewest, 2006-2022, aantal',\n",
       "   'byline': '',\n",
       "   'aria-description': '',\n",
       "   'number-format': '-',\n",
       "   'number-divisor': 0,\n",
       "   'number-append': '',\n",
       "   'number-prepend': '',\n",
       "   'hide-title': False,\n",
       "   'computed-columns': []},\n",
       "  'visualize': {'dark-mode-invert': True,\n",
       "   'highlighted-series': [],\n",
       "   'highlighted-values': [],\n",
       "   'sharing': {'enabled': False},\n",
       "   'labeling': 'top',\n",
       "   'visibility': {'green': True,\n",
       "    'roads': False,\n",
       "    'scale': True,\n",
       "    'urban': False,\n",
       "    'water': True,\n",
       "    'building': True,\n",
       "    'mountains': True,\n",
       "    'building3d': False,\n",
       "    'boundary_state': False,\n",
       "    'boundary_country': True},\n",
       "   'custom-range-y': ['', 4000000],\n",
       "   'show-color-key': False},\n",
       "  'axes': {},\n",
       "  'publish': {'embed-width': 600,\n",
       "   'embed-height': 400,\n",
       "   'blocks': {'logo': {'enabled': True},\n",
       "    'embed': False,\n",
       "    'download-pdf': False,\n",
       "    'download-svg': False,\n",
       "    'get-the-data': False,\n",
       "    'download-image': False},\n",
       "   'export-pdf': {},\n",
       "   'embed-codes': {'embed-method-iframe': '<iframe title=\"Ingeschreven personenwagens\" aria-label=\"Interactive line chart\" id=\"datawrapper-chart-d6VCK\" src=\"https://datawrapper.dwcdn.net/d6VCK/2/\" scrolling=\"no\" frameborder=\"0\" style=\"border: none;\" width=\"600\" height=\"400\"></iframe>',\n",
       "    'embed-method-responsive': '<iframe title=\"Ingeschreven personenwagens\" aria-label=\"Interactive line chart\" id=\"datawrapper-chart-d6VCK\" src=\"https://datawrapper.dwcdn.net/d6VCK/2/\" scrolling=\"no\" frameborder=\"0\" style=\"width: 0; min-width: 100% !important; border: none;\" height=\"400\"></iframe><script type=\"text/javascript\">!function(){\"use strict\";window.addEventListener(\"message\",(function(e){if(void 0!==e.data[\"datawrapper-height\"]){var t=document.querySelectorAll(\"iframe\");for(var a in e.data[\"datawrapper-height\"])for(var r=0;r<t.length;r++){if(t[r].contentWindow===e.source)t[r].style.height=e.data[\"datawrapper-height\"][a]+\"px\"}}}))}();\\n</script>'}},\n",
       "  'annotate': {'notes': ''},\n",
       "  'custom': {}},\n",
       " 'title': 'Ingeschreven personenwagens',\n",
       " 'readonlyKeys': [],\n",
       " 'thumbnails': {'full': '//img.datawrapper.de/d6VCK/e1492f0035535c4baa404699bdefb9b7/full.png',\n",
       "  'plain': '//img.datawrapper.de/d6VCK/e1492f0035535c4baa404699bdefb9b7/plain.png'},\n",
       " 'publicId': 'd6VCK',\n",
       " 'language': 'nl-BE',\n",
       " 'theme': 'vrt',\n",
       " 'authorId': 172004,\n",
       " 'createdAt': '2022-10-22T16:47:48.000Z',\n",
       " 'externalData': None,\n",
       " 'forkable': False,\n",
       " 'forkedFrom': None,\n",
       " 'id': 'd6VCK',\n",
       " 'isFork': False,\n",
       " 'lastEditStep': 5,\n",
       " 'lastModifiedAt': '2022-10-22T16:55:09.000Z',\n",
       " 'organizationId': 'vrt',\n",
       " 'publicUrl': 'https://datawrapper.dwcdn.net/d6VCK/2/',\n",
       " 'publicVersion': 2,\n",
       " 'publishedAt': '2022-10-22T16:55:09.000Z',\n",
       " 'type': 'd3-lines',\n",
       " 'customFields': {},\n",
       " 'folderId': 121077,\n",
       " 'author': {'name': 'Amra Dorjbayar', 'email': 'amra.dorjbayar@gmail.com'},\n",
       " 'url': '/v3/charts/d6VCK'}"
      ]
     },
     "execution_count": 65,
     "metadata": {},
     "output_type": "execute_result"
    }
   ],
   "source": [
    "metadata_new = dw.chart_properties(chart_id = new_chart['id'])\n",
    "metadata_new"
   ]
  },
  {
   "cell_type": "code",
   "execution_count": 42,
   "metadata": {},
   "outputs": [
    {
     "data": {
      "text/plain": [
       "{'metadata': {'data': {'changes': [],\n",
       "   'transpose': True,\n",
       "   'vertical-header': True,\n",
       "   'horizontal-header': True},\n",
       "  'describe': {'source-name': 'Statbel, bewerking Statistiek Vlaanderen',\n",
       "   'source-url': '',\n",
       "   'intro': 'Vlaams Gewest, 2006-2022, aantal',\n",
       "   'byline': '',\n",
       "   'aria-description': '',\n",
       "   'number-format': '-',\n",
       "   'number-divisor': 0,\n",
       "   'number-append': '',\n",
       "   'number-prepend': '',\n",
       "   'hide-title': False,\n",
       "   'computed-columns': []},\n",
       "  'visualize': {'dark-mode-invert': True,\n",
       "   'highlighted-series': [],\n",
       "   'highlighted-values': [],\n",
       "   'sharing': {'enabled': True, 'url': '', 'auto': True},\n",
       "   'x-grid': 'ticks',\n",
       "   'y-grid': 'on',\n",
       "   'scale-y': 'linear',\n",
       "   'labeling': 'off',\n",
       "   'base-color': '#4B6C7A',\n",
       "   'line-dashes': {'Bovengrens onzekerheid': 2, 'Ondergrens onzekerheid': 2},\n",
       "   'line-widths': {'Aantal': 1,\n",
       "    'Totaal': 1,\n",
       "    '% personen': 1,\n",
       "    'Bovengrens onzekerheid': 3,\n",
       "    'Ondergrens onzekerheid': 3},\n",
       "   'label-colors': False,\n",
       "   'label-margin': 0,\n",
       "   'line-symbols': False,\n",
       "   'custom-colors': {'% personen': '#4B6C7A',\n",
       "    'Bovengrens onzekerheid': '#8ED2EE',\n",
       "    'Ondergrens onzekerheid': '#8ED2EE'},\n",
       "   'interpolation': 'linear',\n",
       "   'show-tooltips': True,\n",
       "   'x-tick-format': 'YYYY',\n",
       "   'y-grid-format': '0,0',\n",
       "   'y-grid-labels': 'auto',\n",
       "   'chart-type-set': True,\n",
       "   'custom-range-x': ['', ''],\n",
       "   'custom-range-y': ['', 4000000],\n",
       "   'custom-ticks-x': '',\n",
       "   'custom-ticks-y': '',\n",
       "   'connector-lines': True,\n",
       "   'line-symbols-on': 'every',\n",
       "   'text-annotations': [],\n",
       "   'tooltip-x-format': 'YYYY',\n",
       "   'y-grid-subdivide': True,\n",
       "   'custom-area-fills': [{'to': '--zero-baseline--',\n",
       "     'from': 'Totaal',\n",
       "     'color': '#8ED2EE',\n",
       "     'opacity': 0.2}],\n",
       "   'line-symbols-size': 3.5,\n",
       "   'line-value-labels': False,\n",
       "   'range-annotations': [],\n",
       "   'line-symbols-shape': 'circle',\n",
       "   'y-grid-label-align': 'left',\n",
       "   'line-symbols-opacity': 1,\n",
       "   'tooltip-number-format': '0,0.[00]',\n",
       "   'tooltip-use-custom-formats': True,\n",
       "   'line-symbols-shape-multiple': []},\n",
       "  'axes': {'x': 'X.1'},\n",
       "  'publish': {'embed-width': 718,\n",
       "   'embed-height': 409,\n",
       "   'blocks': {'logo': {'enabled': False},\n",
       "    'embed': False,\n",
       "    'download-pdf': False,\n",
       "    'download-svg': False,\n",
       "    'get-the-data': False,\n",
       "    'download-image': False},\n",
       "   'export-pdf': {'unit': 'mm',\n",
       "    'scale': 1,\n",
       "    'width': 190,\n",
       "    'height': 108,\n",
       "    'include': 'full',\n",
       "    'colorMode': 'rgb',\n",
       "    'ligatures': True,\n",
       "    'fullVectorMode': True},\n",
       "   'export-svg': {'width': 718,\n",
       "    'height': 409,\n",
       "    'include': 'full',\n",
       "    'fullVectorMode': True},\n",
       "   'embed-codes': {'embed-method-iframe': '<iframe title=\"Ingeschreven personenwagens\" aria-label=\"Interactive line chart\" id=\"datawrapper-chart-geaMT\" src=\"https://datawrapper.dwcdn.net/geaMT/1/\" scrolling=\"no\" frameborder=\"0\" style=\"border: none;\" width=\"718\" height=\"409\"></iframe>',\n",
       "    'embed-method-responsive': '<iframe title=\"Ingeschreven personenwagens\" aria-label=\"Interactive line chart\" id=\"datawrapper-chart-geaMT\" src=\"https://datawrapper.dwcdn.net/geaMT/1/\" scrolling=\"no\" frameborder=\"0\" style=\"width: 0; min-width: 100% !important; border: none;\" height=\"409\"></iframe><script type=\"text/javascript\">!function(){\"use strict\";window.addEventListener(\"message\",(function(e){if(void 0!==e.data[\"datawrapper-height\"]){var t=document.querySelectorAll(\"iframe\");for(var a in e.data[\"datawrapper-height\"])for(var r=0;r<t.length;r++){if(t[r].contentWindow===e.source)t[r].style.height=e.data[\"datawrapper-height\"][a]+\"px\"}}}))}();\\n</script>'},\n",
       "   'autoDarkMode': False,\n",
       "   'chart-height': 285,\n",
       "   'embed-heights': {'100': 508.4,\n",
       "    '200': 460.4,\n",
       "    '300': 409.4,\n",
       "    '400': 409.4,\n",
       "    '500': 409.4,\n",
       "    '700': 409.4,\n",
       "    '800': 409.4,\n",
       "    '900': 409.4,\n",
       "    '1000': 409.4}},\n",
       "  'annotate': {'notes': 'Noot: geen cijfers beschikbaar voor 2012.'},\n",
       "  'custom': {},\n",
       "  'json_error': None},\n",
       " 'title': 'Ingeschreven personenwagens',\n",
       " 'readonlyKeys': [],\n",
       " 'thumbnails': {'full': '//img.datawrapper.de/geaMT/3e8229703fdc4c27a2f55c8a9a871023/full.png',\n",
       "  'plain': '//img.datawrapper.de/geaMT/3e8229703fdc4c27a2f55c8a9a871023/plain.png'},\n",
       " 'publicId': 'geaMT',\n",
       " 'language': 'nl-NL',\n",
       " 'theme': 'statistics-flanders',\n",
       " 'authorId': 129172,\n",
       " 'createdAt': '2022-09-29T09:54:42.000Z',\n",
       " 'externalData': None,\n",
       " 'forkable': False,\n",
       " 'forkedFrom': '8berB',\n",
       " 'id': 'geaMT',\n",
       " 'isFork': False,\n",
       " 'lastEditStep': 5,\n",
       " 'lastModifiedAt': '2022-09-29T12:25:26.000Z',\n",
       " 'organizationId': 'statistiekvlaanderen',\n",
       " 'publicUrl': 'https://datawrapper.dwcdn.net/geaMT/1/',\n",
       " 'publicVersion': 1,\n",
       " 'publishedAt': '2022-09-29T12:25:26.000Z',\n",
       " 'type': 'd3-lines',\n",
       " 'customFields': {},\n",
       " 'folderId': 3943,\n",
       " 'url': '/v3/charts/geaMT'}"
      ]
     },
     "execution_count": 42,
     "metadata": {},
     "output_type": "execute_result"
    }
   ],
   "source": [
    "metadata"
   ]
  },
  {
   "cell_type": "code",
   "execution_count": 78,
   "metadata": {},
   "outputs": [
    {
     "data": {
      "text/html": [
       "<iframe title=\"Ingeschreven personenwagens\" aria-label=\"Interactive line chart\" id=\"datawrapper-chart-d6VCK\" src=\"https://datawrapper.dwcdn.net/d6VCK/4/\" scrolling=\"no\" frameborder=\"0\" style=\"border: none;\" width=\"600\" height=\"400\"></iframe>"
      ],
      "text/plain": [
       "<IPython.core.display.HTML object>"
      ]
     },
     "execution_count": 78,
     "metadata": {},
     "output_type": "execute_result"
    }
   ],
   "source": [
    "dw.publish_chart(new_chart['id'])\n"
   ]
  },
  {
   "cell_type": "code",
   "execution_count": 4,
   "metadata": {},
   "outputs": [
    {
     "name": "stdout",
     "output_type": "stream",
     "text": [
      "{'metadata': {'data': {'changes': [], 'transpose': False, 'vertical-header': True, 'horizontal-header': True}, 'describe': {'source-name': 'VMM', 'source-url': '', 'intro': 'Vlaams Gewest, 2015-2021, aantal', 'byline': '', 'aria-description': '', 'number-format': '-', 'number-divisor': 0, 'number-append': '', 'number-prepend': '', 'hide-title': False}, 'visualize': {'dark-mode-invert': True, 'highlighted-series': [], 'highlighted-values': [], 'sharing': {'enabled': True, 'url': '', 'auto': True}, 'x-grid': 'off', 'y-grid': 'on', 'scale-y': 'linear', 'sort-by': 'first', 'category': 'direct', 'labeling': 'right', 'overlays': [], 'color-key': True, 'normalize': False, 'base-color': 0, 'grid-lines': 'show', 'bar-padding': 60, 'label-space': 30, 'line-dashes': [], 'line-widths': [], 'sort-values': False, 'valueLabels': {'show': 'hover', 'enabled': True, 'placement': 'outside'}, 'yAxisLabels': {'enabled': True, 'alignment': 'left', 'placement': 'outside'}, 'connect-bars': False, 'custom-range': ['', '3500'], 'custom-ticks': '500,1000,1500,2000,2500,3000,3500', 'disable-tabs': False, 'grid-lines-x': {'type': 'ticks', 'enabled': False}, 'label-colors': False, 'label-margin': 0, 'line-symbols': False, 'totalsLabels': False, 'custom-colors': {}, 'interpolation': 'linear', 'reverse-order': False, 'rotate-labels': 'auto', 'show-tooltips': True, 'x-grid-format': 'YYYY', 'x-tick-format': 'auto', 'y-grid-format': 'auto', 'y-grid-labels': 'auto', 'absolute-scale': False, 'categoryLabels': {'enabled': True, 'position': 'color-key'}, 'chart-type-set': True, 'custom-range-x': ['', ''], 'custom-range-y': ['', ''], 'custom-ticks-x': '', 'custom-ticks-y': '', 'negative-color': False, 'series-padding': 60, 'show-color-key': False, 'use-line-color': False, 'connector-lines': True, 'line-symbols-on': 'both', 'text-annotations': [], 'tooltip-x-format': 'll', 'y-grid-subdivide': True, 'custom-area-fills': [], 'line-symbols-size': 3.5, 'line-value-labels': False, 'range-annotations': [], 'line-symbols-shape': 'circle', 'y-grid-label-align': 'left', 'line-symbols-opacity': 1, 'tooltip-number-format': '0,0.[00]', 'tooltip-use-custom-formats': False, 'line-symbols-shape-multiple': []}, 'axes': {'x': 'X.1'}, 'publish': {'embed-width': 599, 'embed-height': 391, 'blocks': {'logo': {'enabled': False}, 'embed': False, 'download-pdf': False, 'download-svg': False, 'get-the-data': False, 'download-image': False}, 'export-pdf': {}, 'embed-codes': {'embed-method-iframe': '<iframe title=\"Afsluitingen en begrenzingen van drinkwater na LAC-beslissing\" aria-label=\"Stacked Column Chart\" id=\"datawrapper-chart-9lnFC\" src=\"https://datawrapper.dwcdn.net/9lnFC/2/\" scrolling=\"no\" frameborder=\"0\" style=\"border: none;\" width=\"599\" height=\"391\"></iframe>', 'embed-method-responsive': '<iframe title=\"Afsluitingen en begrenzingen van drinkwater na LAC-beslissing\" aria-label=\"Stacked Column Chart\" id=\"datawrapper-chart-9lnFC\" src=\"https://datawrapper.dwcdn.net/9lnFC/2/\" scrolling=\"no\" frameborder=\"0\" style=\"width: 0; min-width: 100% !important; border: none;\" height=\"391\"></iframe><script type=\"text/javascript\">!function(){\"use strict\";window.addEventListener(\"message\",(function(e){if(void 0!==e.data[\"datawrapper-height\"]){var t=document.querySelectorAll(\"iframe\");for(var a in e.data[\"datawrapper-height\"])for(var r=0;r<t.length;r++){if(t[r].contentWindow===e.source)t[r].style.height=e.data[\"datawrapper-height\"][a]+\"px\"}}}))}();\\n</script>'}, 'chart-height': 286}, 'annotate': {'notes': ''}, 'custom': {}, 'json_error': None}, 'title': 'Afsluitingen en begrenzingen van drinkwater na LAC-beslissing', 'readonlyKeys': [], 'thumbnails': {'full': '//img.datawrapper.de/9lnFC/5e187fda94a1b0c410b953fb4f6e7a78/full.png', 'plain': '//img.datawrapper.de/9lnFC/5e187fda94a1b0c410b953fb4f6e7a78/plain.png'}, 'publicId': '9lnFC', 'language': 'nl-NL', 'theme': 'statistics-flanders', 'authorId': 129187, 'createdAt': '2022-10-04T08:10:31.000Z', 'externalData': None, 'forkable': False, 'forkedFrom': 'ZoBDC', 'id': '9lnFC', 'isFork': False, 'lastEditStep': 5, 'lastModifiedAt': '2022-10-11T10:00:03.000Z', 'organizationId': 'statistiekvlaanderen', 'publicUrl': 'https://datawrapper.dwcdn.net/9lnFC/2/', 'publicVersion': 2, 'publishedAt': '2022-10-11T10:00:03.000Z', 'type': 'stacked-column-chart', 'customFields': {}, 'folderId': 120587, 'url': '/v3/charts/9lnFC'}\n"
     ]
    }
   ],
   "source": [
    "print(dw.chart_properties(chart_id=datawrapper_id))"
   ]
  },
  {
   "cell_type": "code",
   "execution_count": 28,
   "metadata": {},
   "outputs": [],
   "source": [
    "new_metadata = {'metadata': {'visualize':metadata['metadata']['visualize'], 'describe':metadata['metadata']['describe']}}"
   ]
  },
  {
   "cell_type": "code",
   "execution_count": 77,
   "metadata": {},
   "outputs": [
    {
     "name": "stderr",
     "output_type": "stream",
     "text": [
      "/Users/dorjbaam/opt/anaconda3/lib/python3.9/site-packages/IPython/core/display.py:724: UserWarning: Consider using IPython.display.IFrame instead\n",
      "  warnings.warn(\"Consider using IPython.display.IFrame instead\")\n"
     ]
    },
    {
     "data": {
      "text/html": [
       "<iframe title=\"Ingeschreven personenwagens\" aria-label=\"Interactive line chart\" id=\"datawrapper-chart-d6VCK\" src=\"https://datawrapper.dwcdn.net/d6VCK/3/\" scrolling=\"no\" frameborder=\"0\" style=\"border: none;\" width=\"600\" height=\"400\"></iframe>"
      ],
      "text/plain": [
       "<IPython.core.display.HTML object>"
      ]
     },
     "execution_count": 77,
     "metadata": {},
     "output_type": "execute_result"
    }
   ],
   "source": [
    "dw.display_chart(new_chart['id'])"
   ]
  },
  {
   "cell_type": "code",
   "execution_count": 19,
   "metadata": {},
   "outputs": [
    {
     "data": {
      "text/plain": [
       "'<iframe title=\"Land- en tuinbouwbedrijven\" aria-label=\"Interactive line chart\" id=\"datawrapper-chart-IbqOr\" src=\"https://datawrapper.dwcdn.net/IbqOr/1/\" scrolling=\"no\" frameborder=\"0\" style=\"border: none;\" width=\"600\" height=\"400\"></iframe>'"
      ]
     },
     "execution_count": 19,
     "metadata": {},
     "output_type": "execute_result"
    }
   ],
   "source": [
    "dw.get_iframe_code(new_chart['id'])"
   ]
  },
  {
   "cell_type": "code",
   "execution_count": 20,
   "metadata": {},
   "outputs": [
    {
     "name": "stdout",
     "output_type": "stream",
     "text": [
      "old ID: xpOvE\n",
      "new ID: IbqOr\n"
     ]
    }
   ],
   "source": [
    "print('old ID: '+ datawrapper_id)\n",
    "print('new ID: '+ new_chart['id'])"
   ]
  },
  {
   "cell_type": "code",
   "execution_count": 69,
   "metadata": {},
   "outputs": [
    {
     "data": {
      "text/plain": [
       "{'data': {'changes': [],\n",
       "  'transpose': True,\n",
       "  'vertical-header': True,\n",
       "  'horizontal-header': True},\n",
       " 'describe': {'source-name': 'Statbel, bewerking Statistiek Vlaanderen',\n",
       "  'source-url': '',\n",
       "  'intro': 'Vlaams Gewest, 2006-2022, aantal',\n",
       "  'byline': '',\n",
       "  'aria-description': '',\n",
       "  'number-format': '-',\n",
       "  'number-divisor': 0,\n",
       "  'number-append': '',\n",
       "  'number-prepend': '',\n",
       "  'hide-title': False,\n",
       "  'computed-columns': []},\n",
       " 'visualize': {'dark-mode-invert': True,\n",
       "  'highlighted-series': [],\n",
       "  'highlighted-values': [],\n",
       "  'sharing': {'enabled': True, 'url': '', 'auto': True},\n",
       "  'x-grid': 'ticks',\n",
       "  'y-grid': 'on',\n",
       "  'scale-y': 'linear',\n",
       "  'labeling': 'off',\n",
       "  'base-color': '#4B6C7A',\n",
       "  'line-dashes': {'Bovengrens onzekerheid': 2, 'Ondergrens onzekerheid': 2},\n",
       "  'line-widths': {'Aantal': 1,\n",
       "   'Totaal': 1,\n",
       "   '% personen': 1,\n",
       "   'Bovengrens onzekerheid': 3,\n",
       "   'Ondergrens onzekerheid': 3},\n",
       "  'label-colors': False,\n",
       "  'label-margin': 0,\n",
       "  'line-symbols': False,\n",
       "  'custom-colors': {'% personen': '#4B6C7A',\n",
       "   'Bovengrens onzekerheid': '#8ED2EE',\n",
       "   'Ondergrens onzekerheid': '#8ED2EE'},\n",
       "  'interpolation': 'linear',\n",
       "  'show-tooltips': True,\n",
       "  'x-tick-format': 'YYYY',\n",
       "  'y-grid-format': '0,0',\n",
       "  'y-grid-labels': 'auto',\n",
       "  'chart-type-set': True,\n",
       "  'custom-range-x': ['', ''],\n",
       "  'custom-range-y': ['', 4000000],\n",
       "  'custom-ticks-x': '',\n",
       "  'custom-ticks-y': '',\n",
       "  'connector-lines': True,\n",
       "  'line-symbols-on': 'every',\n",
       "  'text-annotations': [],\n",
       "  'tooltip-x-format': 'YYYY',\n",
       "  'y-grid-subdivide': True,\n",
       "  'custom-area-fills': [{'to': '--zero-baseline--',\n",
       "    'from': 'Totaal',\n",
       "    'color': '#8ED2EE',\n",
       "    'opacity': 0.2}],\n",
       "  'line-symbols-size': 3.5,\n",
       "  'line-value-labels': False,\n",
       "  'range-annotations': [],\n",
       "  'line-symbols-shape': 'circle',\n",
       "  'y-grid-label-align': 'left',\n",
       "  'line-symbols-opacity': 1,\n",
       "  'tooltip-number-format': '0,0.[00]',\n",
       "  'tooltip-use-custom-formats': True,\n",
       "  'line-symbols-shape-multiple': []},\n",
       " 'axes': {'x': 'X.1'},\n",
       " 'publish': {'embed-width': 718,\n",
       "  'embed-height': 409,\n",
       "  'blocks': {'logo': {'enabled': False},\n",
       "   'embed': False,\n",
       "   'download-pdf': False,\n",
       "   'download-svg': False,\n",
       "   'get-the-data': False,\n",
       "   'download-image': False},\n",
       "  'export-pdf': {'unit': 'mm',\n",
       "   'scale': 1,\n",
       "   'width': 190,\n",
       "   'height': 108,\n",
       "   'include': 'full',\n",
       "   'colorMode': 'rgb',\n",
       "   'ligatures': True,\n",
       "   'fullVectorMode': True},\n",
       "  'export-svg': {'width': 718,\n",
       "   'height': 409,\n",
       "   'include': 'full',\n",
       "   'fullVectorMode': True},\n",
       "  'embed-codes': {'embed-method-iframe': '<iframe title=\"Ingeschreven personenwagens\" aria-label=\"Interactive line chart\" id=\"datawrapper-chart-geaMT\" src=\"https://datawrapper.dwcdn.net/geaMT/1/\" scrolling=\"no\" frameborder=\"0\" style=\"border: none;\" width=\"718\" height=\"409\"></iframe>',\n",
       "   'embed-method-responsive': '<iframe title=\"Ingeschreven personenwagens\" aria-label=\"Interactive line chart\" id=\"datawrapper-chart-geaMT\" src=\"https://datawrapper.dwcdn.net/geaMT/1/\" scrolling=\"no\" frameborder=\"0\" style=\"width: 0; min-width: 100% !important; border: none;\" height=\"409\"></iframe><script type=\"text/javascript\">!function(){\"use strict\";window.addEventListener(\"message\",(function(e){if(void 0!==e.data[\"datawrapper-height\"]){var t=document.querySelectorAll(\"iframe\");for(var a in e.data[\"datawrapper-height\"])for(var r=0;r<t.length;r++){if(t[r].contentWindow===e.source)t[r].style.height=e.data[\"datawrapper-height\"][a]+\"px\"}}}))}();\\n</script>'},\n",
       "  'autoDarkMode': False,\n",
       "  'chart-height': 285,\n",
       "  'embed-heights': {'100': 508.4,\n",
       "   '200': 460.4,\n",
       "   '300': 409.4,\n",
       "   '400': 409.4,\n",
       "   '500': 409.4,\n",
       "   '700': 409.4,\n",
       "   '800': 409.4,\n",
       "   '900': 409.4,\n",
       "   '1000': 409.4}},\n",
       " 'annotate': {'notes': 'Noot: geen cijfers beschikbaar voor 2012.'},\n",
       " 'custom': {},\n",
       " 'json_error': None}"
      ]
     },
     "execution_count": 69,
     "metadata": {},
     "output_type": "execute_result"
    }
   ],
   "source": [
    "metadata['metadata']\n"
   ]
  },
  {
   "cell_type": "code",
   "execution_count": 18,
   "metadata": {},
   "outputs": [
    {
     "name": "stdout",
     "output_type": "stream",
     "text": [
      "{'metadata': {'data': {'changes': [], 'transpose': False, 'vertical-header': True, 'horizontal-header': True}, 'describe': {'source-name': 'VMM', 'source-url': '', 'intro': 'Vlaams Gewest, 2015-2021, aantal', 'byline': '', 'aria-description': '', 'number-format': '-', 'number-divisor': 0, 'number-append': '', 'number-prepend': '', 'hide-title': False}, 'visualize': {'dark-mode-invert': True, 'highlighted-series': [], 'highlighted-values': [], 'sharing': {'enabled': True, 'url': '', 'auto': True}, 'x-grid': 'off', 'y-grid': 'on', 'scale-y': 'linear', 'sort-by': 'first', 'category': 'direct', 'labeling': 'right', 'overlays': [], 'color-key': True, 'normalize': False, 'base-color': 0, 'grid-lines': 'show', 'bar-padding': 60, 'label-space': 30, 'line-dashes': [], 'line-widths': [], 'sort-values': False, 'valueLabels': {'show': 'hover', 'enabled': True, 'placement': 'outside'}, 'yAxisLabels': {'enabled': True, 'alignment': 'left', 'placement': 'outside'}, 'connect-bars': False, 'custom-range': ['', '3500'], 'custom-ticks': '500,1000,1500,2000,2500,3000,3500', 'disable-tabs': False, 'grid-lines-x': {'type': 'ticks', 'enabled': False}, 'label-colors': False, 'label-margin': 0, 'line-symbols': False, 'totalsLabels': False, 'custom-colors': {}, 'interpolation': 'linear', 'reverse-order': False, 'rotate-labels': 'auto', 'show-tooltips': True, 'x-grid-format': 'YYYY', 'x-tick-format': 'auto', 'y-grid-format': 'auto', 'y-grid-labels': 'auto', 'absolute-scale': False, 'categoryLabels': {'enabled': True, 'position': 'color-key'}, 'chart-type-set': True, 'custom-range-x': ['', ''], 'custom-range-y': ['', ''], 'custom-ticks-x': '', 'custom-ticks-y': '', 'negative-color': False, 'series-padding': 60, 'show-color-key': False, 'use-line-color': False, 'connector-lines': True, 'line-symbols-on': 'both', 'text-annotations': [], 'tooltip-x-format': 'll', 'y-grid-subdivide': True, 'custom-area-fills': [], 'line-symbols-size': 3.5, 'line-value-labels': False, 'range-annotations': [], 'line-symbols-shape': 'circle', 'y-grid-label-align': 'left', 'line-symbols-opacity': 1, 'tooltip-number-format': '0,0.[00]', 'tooltip-use-custom-formats': False, 'line-symbols-shape-multiple': []}, 'axes': {'x': 'X.1'}, 'publish': {'embed-width': 599, 'embed-height': 391, 'blocks': {'logo': {'enabled': False}, 'embed': False, 'download-pdf': False, 'download-svg': False, 'get-the-data': False, 'download-image': False}, 'export-pdf': {}, 'embed-codes': {'embed-method-iframe': '<iframe title=\"Afsluitingen en begrenzingen van drinkwater na LAC-beslissing\" aria-label=\"Stacked Column Chart\" id=\"datawrapper-chart-9lnFC\" src=\"https://datawrapper.dwcdn.net/9lnFC/2/\" scrolling=\"no\" frameborder=\"0\" style=\"border: none;\" width=\"599\" height=\"391\"></iframe>', 'embed-method-responsive': '<iframe title=\"Afsluitingen en begrenzingen van drinkwater na LAC-beslissing\" aria-label=\"Stacked Column Chart\" id=\"datawrapper-chart-9lnFC\" src=\"https://datawrapper.dwcdn.net/9lnFC/2/\" scrolling=\"no\" frameborder=\"0\" style=\"width: 0; min-width: 100% !important; border: none;\" height=\"391\"></iframe><script type=\"text/javascript\">!function(){\"use strict\";window.addEventListener(\"message\",(function(e){if(void 0!==e.data[\"datawrapper-height\"]){var t=document.querySelectorAll(\"iframe\");for(var a in e.data[\"datawrapper-height\"])for(var r=0;r<t.length;r++){if(t[r].contentWindow===e.source)t[r].style.height=e.data[\"datawrapper-height\"][a]+\"px\"}}}))}();\\n</script>'}, 'chart-height': 286}, 'annotate': {'notes': ''}, 'custom': {}, 'json_error': None}, 'title': 'Afsluitingen en begrenzingen van drinkwater na LAC-beslissing', 'readonlyKeys': [], 'thumbnails': {'full': '//img.datawrapper.de/9lnFC/5e187fda94a1b0c410b953fb4f6e7a78/full.png', 'plain': '//img.datawrapper.de/9lnFC/5e187fda94a1b0c410b953fb4f6e7a78/plain.png'}, 'publicId': '9lnFC', 'language': 'nl-NL', 'theme': 'statistics-flanders', 'authorId': 129187, 'createdAt': '2022-10-04T08:10:31.000Z', 'externalData': None, 'forkable': False, 'forkedFrom': 'ZoBDC', 'id': '9lnFC', 'isFork': False, 'lastEditStep': 5, 'lastModifiedAt': '2022-10-11T10:00:03.000Z', 'organizationId': 'statistiekvlaanderen', 'publicUrl': 'https://datawrapper.dwcdn.net/9lnFC/2/', 'publicVersion': 2, 'publishedAt': '2022-10-11T10:00:03.000Z', 'type': 'stacked-column-chart', 'customFields': {}, 'folderId': 120587, 'url': '/v3/charts/9lnFC'}\n"
     ]
    }
   ],
   "source": [
    "print(metadata)"
   ]
  },
  {
   "cell_type": "code",
   "execution_count": 26,
   "metadata": {},
   "outputs": [],
   "source": [
    "new_metadata = {'metadata': {'visualize':metadata['metadata']['visualize'], 'describe':metadata['metadata']['describe']}}"
   ]
  },
  {
   "cell_type": "code",
   "execution_count": 27,
   "metadata": {},
   "outputs": [
    {
     "data": {
      "text/plain": [
       "{'metadata': {'visualize': {'dark-mode-invert': True,\n",
       "   'highlighted-series': [],\n",
       "   'highlighted-values': [],\n",
       "   'sharing': {'enabled': True, 'url': '', 'auto': True},\n",
       "   'x-grid': 'off',\n",
       "   'y-grid': 'on',\n",
       "   'scale-y': 'linear',\n",
       "   'sort-by': 'first',\n",
       "   'category': 'direct',\n",
       "   'labeling': 'right',\n",
       "   'overlays': [],\n",
       "   'color-key': True,\n",
       "   'normalize': False,\n",
       "   'base-color': 0,\n",
       "   'grid-lines': 'show',\n",
       "   'bar-padding': 60,\n",
       "   'label-space': 30,\n",
       "   'line-dashes': [],\n",
       "   'line-widths': [],\n",
       "   'sort-values': False,\n",
       "   'valueLabels': {'show': 'hover', 'enabled': True, 'placement': 'outside'},\n",
       "   'yAxisLabels': {'enabled': True,\n",
       "    'alignment': 'left',\n",
       "    'placement': 'outside'},\n",
       "   'connect-bars': False,\n",
       "   'custom-range': ['', '3500'],\n",
       "   'custom-ticks': '500,1000,1500,2000,2500,3000,3500',\n",
       "   'disable-tabs': False,\n",
       "   'grid-lines-x': {'type': 'ticks', 'enabled': False},\n",
       "   'label-colors': False,\n",
       "   'label-margin': 0,\n",
       "   'line-symbols': False,\n",
       "   'totalsLabels': False,\n",
       "   'custom-colors': {},\n",
       "   'interpolation': 'linear',\n",
       "   'reverse-order': False,\n",
       "   'rotate-labels': 'auto',\n",
       "   'show-tooltips': True,\n",
       "   'x-grid-format': 'YYYY',\n",
       "   'x-tick-format': 'auto',\n",
       "   'y-grid-format': 'auto',\n",
       "   'y-grid-labels': 'auto',\n",
       "   'absolute-scale': False,\n",
       "   'categoryLabels': {'enabled': True, 'position': 'color-key'},\n",
       "   'chart-type-set': True,\n",
       "   'custom-range-x': ['', ''],\n",
       "   'custom-range-y': ['', ''],\n",
       "   'custom-ticks-x': '',\n",
       "   'custom-ticks-y': '',\n",
       "   'negative-color': False,\n",
       "   'series-padding': 60,\n",
       "   'show-color-key': False,\n",
       "   'use-line-color': False,\n",
       "   'connector-lines': True,\n",
       "   'line-symbols-on': 'both',\n",
       "   'text-annotations': [],\n",
       "   'tooltip-x-format': 'll',\n",
       "   'y-grid-subdivide': True,\n",
       "   'custom-area-fills': [],\n",
       "   'line-symbols-size': 3.5,\n",
       "   'line-value-labels': False,\n",
       "   'range-annotations': [],\n",
       "   'line-symbols-shape': 'circle',\n",
       "   'y-grid-label-align': 'left',\n",
       "   'line-symbols-opacity': 1,\n",
       "   'tooltip-number-format': '0,0.[00]',\n",
       "   'tooltip-use-custom-formats': False,\n",
       "   'line-symbols-shape-multiple': []},\n",
       "  'describe': {'source-name': 'VMM',\n",
       "   'source-url': '',\n",
       "   'intro': 'Vlaams Gewest, 2015-2021, aantal',\n",
       "   'byline': '',\n",
       "   'aria-description': '',\n",
       "   'number-format': '-',\n",
       "   'number-divisor': 0,\n",
       "   'number-append': '',\n",
       "   'number-prepend': '',\n",
       "   'hide-title': False}}}"
      ]
     },
     "execution_count": 27,
     "metadata": {},
     "output_type": "execute_result"
    }
   ],
   "source": [
    "new_metadata"
   ]
  },
  {
   "cell_type": "code",
   "execution_count": 71,
   "metadata": {},
   "outputs": [
    {
     "data": {
      "text/plain": [
       "{'metadata': {'data': {'changes': [],\n",
       "   'transpose': True,\n",
       "   'vertical-header': True,\n",
       "   'horizontal-header': True},\n",
       "  'describe': {'source-name': 'Statbel, bewerking Statistiek Vlaanderen',\n",
       "   'source-url': '',\n",
       "   'intro': 'Vlaams Gewest, 2006-2022, aantal',\n",
       "   'byline': '',\n",
       "   'aria-description': '',\n",
       "   'number-format': '-',\n",
       "   'number-divisor': 0,\n",
       "   'number-append': '',\n",
       "   'number-prepend': '',\n",
       "   'hide-title': False,\n",
       "   'computed-columns': []},\n",
       "  'visualize': {'dark-mode-invert': True,\n",
       "   'highlighted-series': [],\n",
       "   'highlighted-values': [],\n",
       "   'sharing': {'enabled': True, 'url': '', 'auto': True},\n",
       "   'x-grid': 'ticks',\n",
       "   'y-grid': 'on',\n",
       "   'scale-y': 'linear',\n",
       "   'labeling': 'off',\n",
       "   'base-color': '#4B6C7A',\n",
       "   'line-dashes': {'Bovengrens onzekerheid': 2, 'Ondergrens onzekerheid': 2},\n",
       "   'line-widths': {'Aantal': 1,\n",
       "    'Totaal': 1,\n",
       "    '% personen': 1,\n",
       "    'Bovengrens onzekerheid': 3,\n",
       "    'Ondergrens onzekerheid': 3},\n",
       "   'label-colors': False,\n",
       "   'label-margin': 0,\n",
       "   'line-symbols': False,\n",
       "   'custom-colors': {'% personen': '#4B6C7A',\n",
       "    'Bovengrens onzekerheid': '#8ED2EE',\n",
       "    'Ondergrens onzekerheid': '#8ED2EE'},\n",
       "   'interpolation': 'linear',\n",
       "   'show-tooltips': True,\n",
       "   'x-tick-format': 'YYYY',\n",
       "   'y-grid-format': '0,0',\n",
       "   'y-grid-labels': 'auto',\n",
       "   'chart-type-set': True,\n",
       "   'custom-range-x': ['', ''],\n",
       "   'custom-range-y': ['', 4000000],\n",
       "   'custom-ticks-x': '',\n",
       "   'custom-ticks-y': '',\n",
       "   'connector-lines': True,\n",
       "   'line-symbols-on': 'every',\n",
       "   'text-annotations': [],\n",
       "   'tooltip-x-format': 'YYYY',\n",
       "   'y-grid-subdivide': True,\n",
       "   'custom-area-fills': [{'to': '--zero-baseline--',\n",
       "     'from': 'Totaal',\n",
       "     'color': '#8ED2EE',\n",
       "     'opacity': 0.2}],\n",
       "   'line-symbols-size': 3.5,\n",
       "   'line-value-labels': False,\n",
       "   'range-annotations': [],\n",
       "   'line-symbols-shape': 'circle',\n",
       "   'y-grid-label-align': 'left',\n",
       "   'line-symbols-opacity': 1,\n",
       "   'tooltip-number-format': '0,0.[00]',\n",
       "   'tooltip-use-custom-formats': True,\n",
       "   'line-symbols-shape-multiple': []},\n",
       "  'axes': {'x': 'X.1'},\n",
       "  'annotate': {'notes': 'Noot: geen cijfers beschikbaar voor 2012.'},\n",
       "  'custom': {},\n",
       "  'json_error': None},\n",
       " 'title': 'Ingeschreven personenwagens',\n",
       " 'readonlyKeys': [],\n",
       " 'thumbnails': {'full': '//img.datawrapper.de/geaMT/3e8229703fdc4c27a2f55c8a9a871023/full.png',\n",
       "  'plain': '//img.datawrapper.de/geaMT/3e8229703fdc4c27a2f55c8a9a871023/plain.png'},\n",
       " 'publicId': 'geaMT',\n",
       " 'language': 'nl-NL',\n",
       " 'theme': 'statistics-flanders',\n",
       " 'authorId': 129172,\n",
       " 'createdAt': '2022-09-29T09:54:42.000Z',\n",
       " 'externalData': None,\n",
       " 'forkable': False,\n",
       " 'forkedFrom': '8berB',\n",
       " 'id': 'geaMT',\n",
       " 'isFork': False,\n",
       " 'lastEditStep': 5,\n",
       " 'lastModifiedAt': '2022-09-29T12:25:26.000Z',\n",
       " 'organizationId': 'statistiekvlaanderen',\n",
       " 'publicUrl': 'https://datawrapper.dwcdn.net/geaMT/1/',\n",
       " 'publicVersion': 1,\n",
       " 'publishedAt': '2022-09-29T12:25:26.000Z',\n",
       " 'type': 'd3-lines',\n",
       " 'customFields': {},\n",
       " 'folderId': 3943,\n",
       " 'url': '/v3/charts/geaMT'}"
      ]
     },
     "execution_count": 71,
     "metadata": {},
     "output_type": "execute_result"
    }
   ],
   "source": [
    "del metadata['metadata']['publish']\n",
    "metadata['metadata']"
   ]
  },
  {
   "cell_type": "code",
   "execution_count": 73,
   "metadata": {},
   "outputs": [],
   "source": [
    "del metadata['metadata']['visualize']['custom-colors']"
   ]
  },
  {
   "cell_type": "code",
   "execution_count": 74,
   "metadata": {},
   "outputs": [
    {
     "data": {
      "text/plain": [
       "{'data': {'changes': [],\n",
       "  'transpose': True,\n",
       "  'vertical-header': True,\n",
       "  'horizontal-header': True},\n",
       " 'describe': {'source-name': 'Statbel, bewerking Statistiek Vlaanderen',\n",
       "  'source-url': '',\n",
       "  'intro': 'Vlaams Gewest, 2006-2022, aantal',\n",
       "  'byline': '',\n",
       "  'aria-description': '',\n",
       "  'number-format': '-',\n",
       "  'number-divisor': 0,\n",
       "  'number-append': '',\n",
       "  'number-prepend': '',\n",
       "  'hide-title': False,\n",
       "  'computed-columns': []},\n",
       " 'visualize': {'dark-mode-invert': True,\n",
       "  'highlighted-series': [],\n",
       "  'highlighted-values': [],\n",
       "  'sharing': {'enabled': True, 'url': '', 'auto': True},\n",
       "  'x-grid': 'ticks',\n",
       "  'y-grid': 'on',\n",
       "  'scale-y': 'linear',\n",
       "  'labeling': 'off',\n",
       "  'base-color': '#4B6C7A',\n",
       "  'line-dashes': {'Bovengrens onzekerheid': 2, 'Ondergrens onzekerheid': 2},\n",
       "  'line-widths': {'Aantal': 1,\n",
       "   'Totaal': 1,\n",
       "   '% personen': 1,\n",
       "   'Bovengrens onzekerheid': 3,\n",
       "   'Ondergrens onzekerheid': 3},\n",
       "  'label-colors': False,\n",
       "  'label-margin': 0,\n",
       "  'line-symbols': False,\n",
       "  'interpolation': 'linear',\n",
       "  'show-tooltips': True,\n",
       "  'x-tick-format': 'YYYY',\n",
       "  'y-grid-format': '0,0',\n",
       "  'y-grid-labels': 'auto',\n",
       "  'chart-type-set': True,\n",
       "  'custom-range-x': ['', ''],\n",
       "  'custom-range-y': ['', 4000000],\n",
       "  'custom-ticks-x': '',\n",
       "  'custom-ticks-y': '',\n",
       "  'connector-lines': True,\n",
       "  'line-symbols-on': 'every',\n",
       "  'text-annotations': [],\n",
       "  'tooltip-x-format': 'YYYY',\n",
       "  'y-grid-subdivide': True,\n",
       "  'custom-area-fills': [{'to': '--zero-baseline--',\n",
       "    'from': 'Totaal',\n",
       "    'color': '#8ED2EE',\n",
       "    'opacity': 0.2}],\n",
       "  'line-symbols-size': 3.5,\n",
       "  'line-value-labels': False,\n",
       "  'range-annotations': [],\n",
       "  'line-symbols-shape': 'circle',\n",
       "  'y-grid-label-align': 'left',\n",
       "  'line-symbols-opacity': 1,\n",
       "  'tooltip-number-format': '0,0.[00]',\n",
       "  'tooltip-use-custom-formats': True,\n",
       "  'line-symbols-shape-multiple': []},\n",
       " 'axes': {'x': 'X.1'},\n",
       " 'annotate': {'notes': 'Noot: geen cijfers beschikbaar voor 2012.'},\n",
       " 'custom': {},\n",
       " 'json_error': None}"
      ]
     },
     "execution_count": 74,
     "metadata": {},
     "output_type": "execute_result"
    }
   ],
   "source": [
    "metadata['metadata']"
   ]
  },
  {
   "cell_type": "code",
   "execution_count": null,
   "metadata": {},
   "outputs": [],
   "source": []
  }
 ],
 "metadata": {
  "kernelspec": {
   "display_name": "Python 3.9.12 ('base')",
   "language": "python",
   "name": "python3"
  },
  "language_info": {
   "codemirror_mode": {
    "name": "ipython",
    "version": 3
   },
   "file_extension": ".py",
   "mimetype": "text/x-python",
   "name": "python",
   "nbconvert_exporter": "python",
   "pygments_lexer": "ipython3",
   "version": "3.9.12"
  },
  "orig_nbformat": 4,
  "vscode": {
   "interpreter": {
    "hash": "5facfb68f77bf2b043a6e912bbe37f34562f8199fa4991c5b537bf80507dc8fb"
   }
  }
 },
 "nbformat": 4,
 "nbformat_minor": 2
}
