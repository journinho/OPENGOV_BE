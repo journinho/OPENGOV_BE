{
 "cells": [
  {
   "cell_type": "code",
   "execution_count": 1,
   "metadata": {},
   "outputs": [],
   "source": [
    "import pandas as pd\n",
    "import requests\n",
    "import json"
   ]
  },
  {
   "cell_type": "code",
   "execution_count": 2,
   "metadata": {},
   "outputs": [],
   "source": [
    "url = \"https://bestat.statbel.fgov.be/bestat/api/views/\"\n",
    "all_data_source = requests.get(url).json()\n",
    "df = pd.json_normalize(all_data_source)\n"
   ]
  },
  {
   "cell_type": "code",
   "execution_count": 3,
   "metadata": {},
   "outputs": [],
   "source": [
    "# select only where locale is nl\n",
    "df = df[df.locale == \"nl\"].reset_index(drop=True)"
   ]
  },
  {
   "cell_type": "code",
   "execution_count": 6,
   "metadata": {},
   "outputs": [
    {
     "name": "stdout",
     "output_type": "stream",
     "text": [
      "An error occurred while processing the data for ID a79d635f-3b72-4fc8-b448-4ee30b667945: No columns to parse from file\n",
      "An error occurred while processing the data for ID 232435c2-40e9-4bf0-930a-e2b924e7c90e: No columns to parse from file\n",
      "An error occurred while processing the data for ID 65c3f059-c7af-4389-a8d7-0e5554d9a231: No columns to parse from file\n",
      "An error occurred while processing the data for ID 59152483-12da-4699-8279-c6cccd1be9e4: No columns to parse from file\n",
      "An error occurred while processing the data for ID b29a9e0b-4be5-4105-aa5c-a4bd958ccf8f: No columns to parse from file\n",
      "An error occurred while processing the data for ID d4c038a1-ba97-47c7-8ae2-9a10d929f4c1: No columns to parse from file\n",
      "An error occurred while processing the data for ID df813d2a-96f6-40e3-b54c-1e132a6bfc28: No columns to parse from file\n",
      "An error occurred while processing the data for ID 26a1bd31-9eb7-41a4-a3bc-5f4d544b7a5f: No columns to parse from file\n",
      "An error occurred while processing the data for ID fd0f2a32-a9ce-4e18-91ad-e2250fb8aa59: No columns to parse from file\n",
      "An error occurred while processing the data for ID 32a41fb4-8082-4470-a819-a39b964af225: No columns to parse from file\n",
      "An error occurred while processing the data for ID 6bf2b570-823c-4950-94c5-a77744d035e5: No columns to parse from file\n",
      "An error occurred while processing the data for ID 785a01a9-b3aa-4446-b651-dabdfdf2f051: No columns to parse from file\n"
     ]
    }
   ],
   "source": [
    "#iterate over df and for every row, get the data from the id and print it\n",
    "for index, row in df.iterrows():\n",
    "    try:\n",
    "        url = f\"https://bestat.statbel.fgov.be/bestat/api/views/{row['id']}/result/CSV\"\n",
    "        data = pd.read_csv(url)\n",
    "        data.to_csv(f\"../data/data_clean/bestat/{row['id']}.csv\", index=False)\n",
    "    except Exception as e:\n",
    "        print(f\"An error occurred while processing the data for ID {row['id']}: {e}\")"
   ]
  },
  {
   "cell_type": "code",
   "execution_count": null,
   "metadata": {},
   "outputs": [],
   "source": []
  }
 ],
 "metadata": {
  "kernelspec": {
   "display_name": "Python 3",
   "language": "python",
   "name": "python3"
  },
  "language_info": {
   "codemirror_mode": {
    "name": "ipython",
    "version": 3
   },
   "file_extension": ".py",
   "mimetype": "text/x-python",
   "name": "python",
   "nbconvert_exporter": "python",
   "pygments_lexer": "ipython3",
   "version": "3.10.4"
  },
  "orig_nbformat": 4,
  "vscode": {
   "interpreter": {
    "hash": "3ad933181bd8a04b432d3370b9dc3b0662ad032c4dfaa4e4f1596c548f763858"
   }
  }
 },
 "nbformat": 4,
 "nbformat_minor": 2
}
