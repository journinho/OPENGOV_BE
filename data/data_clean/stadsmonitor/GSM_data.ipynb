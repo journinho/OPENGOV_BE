{
 "cells": [
  {
   "cell_type": "code",
   "execution_count": 18,
   "metadata": {},
   "outputs": [],
   "source": [
    "import pandas as pd\n",
    "import os\n",
    "\n",
    "# Replace \"https://example.com/example.xlsx\" with the URL of your Excel file\n",
    "url = \"https://gsminfo.gemeente-stadsmonitor.be/%24web/Rapporten_outputs/OutputSurvey/GSM_surveyresultaten_Zorg_en_gezondheid.xlsx\"\n",
    "\n",
    "# Get the file name from the URL\n",
    "excel_file_name = os.path.basename(url)\n",
    "\n",
    "# Create a folder with the same name as the Excel file, if it doesn't already exist\n",
    "folder_name = os.path.splitext(excel_file_name)[0]\n",
    "if not os.path.exists(folder_name):\n",
    "    os.mkdir(folder_name)\n",
    "\n",
    "# Download the Excel file from the URL and load it\n",
    "excel_file = pd.ExcelFile(url)"
   ]
  },
  {
   "cell_type": "code",
   "execution_count": 19,
   "metadata": {},
   "outputs": [],
   "source": [
    "# Iterate through each sheet in the Excel file\n",
    "for sheet_name in excel_file.sheet_names:\n",
    "\n",
    "    # Load the sheet as a pandas DataFrame\n",
    "    df = excel_file.parse(sheet_name)\n",
    "\n",
    "    # Save the DataFrame as a CSV file inside the folder with the same name as the sheet\n",
    "    csv_file_name = os.path.join(folder_name, f\"{sheet_name}.csv\")\n",
    "    df.to_csv(csv_file_name, index=False)\n"
   ]
  },
  {
   "cell_type": "code",
   "execution_count": null,
   "metadata": {},
   "outputs": [],
   "source": []
  }
 ],
 "metadata": {
  "kernelspec": {
   "display_name": "Python 3",
   "language": "python",
   "name": "python3"
  },
  "language_info": {
   "codemirror_mode": {
    "name": "ipython",
    "version": 3
   },
   "file_extension": ".py",
   "mimetype": "text/x-python",
   "name": "python",
   "nbconvert_exporter": "python",
   "pygments_lexer": "ipython3",
   "version": "3.10.4"
  },
  "orig_nbformat": 4
 },
 "nbformat": 4,
 "nbformat_minor": 2
}
